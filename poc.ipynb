{
 "cells": [
  {
   "cell_type": "code",
   "execution_count": 11,
   "id": "c8a70c04-8971-4382-aa99-5dea9aa5445a",
   "metadata": {},
   "outputs": [],
   "source": [
    "from math import log10\n",
    "from math import pow"
   ]
  },
  {
   "cell_type": "code",
   "execution_count": 3,
   "id": "2d57064f-ac9f-4ca0-8dc8-bd9699994975",
   "metadata": {},
   "outputs": [],
   "source": [
    "num = 1000000"
   ]
  },
  {
   "cell_type": "code",
   "execution_count": 4,
   "id": "f1be93fc-4b39-4840-b281-81f294b2b817",
   "metadata": {},
   "outputs": [
    {
     "data": {
      "text/plain": [
       "6.0"
      ]
     },
     "execution_count": 4,
     "metadata": {},
     "output_type": "execute_result"
    }
   ],
   "source": [
    "log10(num)"
   ]
  },
  {
   "cell_type": "code",
   "execution_count": 5,
   "id": "b9dc7708-5898-4f83-8687-9e3fce923f79",
   "metadata": {},
   "outputs": [
    {
     "data": {
      "text/plain": [
       "9.050556373008149"
      ]
     },
     "execution_count": 5,
     "metadata": {},
     "output_type": "execute_result"
    }
   ],
   "source": [
    "log10(1123456789)"
   ]
  },
  {
   "cell_type": "code",
   "execution_count": 6,
   "id": "1e8101d9-422c-4523-8dde-77d5226aa865",
   "metadata": {},
   "outputs": [
    {
     "data": {
      "text/plain": [
       "12.977157948747859"
      ]
     },
     "execution_count": 6,
     "metadata": {},
     "output_type": "execute_result"
    }
   ],
   "source": [
    "log10(9487634567534)"
   ]
  },
  {
   "cell_type": "code",
   "execution_count": 7,
   "id": "c3b4fbd3-6e1c-4cb9-932e-54bcf470a770",
   "metadata": {},
   "outputs": [
    {
     "data": {
      "text/plain": [
       "6.000000043429446"
      ]
     },
     "execution_count": 7,
     "metadata": {},
     "output_type": "execute_result"
    }
   ],
   "source": [
    "log10(num + 0.1)"
   ]
  },
  {
   "cell_type": "code",
   "execution_count": 9,
   "id": "3a68860d-0b37-488b-9a9e-e0f5ccaffdda",
   "metadata": {},
   "outputs": [
    {
     "data": {
      "text/plain": [
       "True"
      ]
     },
     "execution_count": 9,
     "metadata": {},
     "output_type": "execute_result"
    }
   ],
   "source": [
    "log10(num) >= 6"
   ]
  },
  {
   "cell_type": "code",
   "execution_count": 10,
   "id": "edd49b14-9671-428d-ba71-4a81de4b85d5",
   "metadata": {},
   "outputs": [
    {
     "data": {
      "text/plain": [
       "6.397940067736083"
      ]
     },
     "execution_count": 10,
     "metadata": {},
     "output_type": "execute_result"
    }
   ],
   "source": [
    "log10(2500000.34)"
   ]
  },
  {
   "cell_type": "code",
   "execution_count": 12,
   "id": "19ac6f62-70cf-4e77-b48c-09184a3e3f73",
   "metadata": {},
   "outputs": [
    {
     "data": {
      "text/plain": [
       "1000000.0"
      ]
     },
     "execution_count": 12,
     "metadata": {},
     "output_type": "execute_result"
    }
   ],
   "source": [
    "pow(10,6)"
   ]
  },
  {
   "cell_type": "code",
   "execution_count": 14,
   "id": "6202265c-62bf-48f4-98d6-46371acaf870",
   "metadata": {},
   "outputs": [
    {
     "data": {
      "text/plain": [
       "2.5000003399999997"
      ]
     },
     "execution_count": 14,
     "metadata": {},
     "output_type": "execute_result"
    }
   ],
   "source": [
    "2500000.34/pow(10,6)"
   ]
  },
  {
   "cell_type": "code",
   "execution_count": 53,
   "id": "fcbd1a7e-d1f8-42fc-9393-9df352cbdc0d",
   "metadata": {},
   "outputs": [],
   "source": [
    "def form(n: float, powstr: str)-> str:\n",
    "    if round(n, 1).is_integer():\n",
    "        return f'{round(n, 1):0.0f}' + powstr\n",
    "    return f'{round(n, 1):0.1f}' + powstr\n",
    "    \n",
    "def pretty(x)-> str:\n",
    "    exp = log10(x)\n",
    "    if exp >= 6:\n",
    "        if exp >= 12:\n",
    "            return form(x/pow(10,12), 'T')\n",
    "        elif exp >= 9:\n",
    "            return form(x/pow(10,9), 'B')\n",
    "        else:\n",
    "            return form(x/pow(10,6), 'M')\n",
    "    else:\n",
    "        return str(x)"
   ]
  },
  {
   "cell_type": "code",
   "execution_count": 17,
   "id": "e9e80557-ed1f-49da-911a-535e92215a79",
   "metadata": {},
   "outputs": [
    {
     "data": {
      "text/plain": [
       "2.5"
      ]
     },
     "execution_count": 17,
     "metadata": {},
     "output_type": "execute_result"
    }
   ],
   "source": [
    "round(2500000.34/pow(10,6), 1)"
   ]
  },
  {
   "cell_type": "code",
   "execution_count": 26,
   "id": "9d8df50e-b6f7-41f6-a99c-722a16af1dad",
   "metadata": {},
   "outputs": [
    {
     "name": "stdout",
     "output_type": "stream",
     "text": [
      "10.0\n"
     ]
    },
    {
     "data": {
      "text/plain": [
       "True"
      ]
     },
     "execution_count": 26,
     "metadata": {},
     "output_type": "execute_result"
    }
   ],
   "source": [
    "# check if rounded number has zero decimal\n",
    "x = 10.01\n",
    "print(round(x, 1))\n",
    "round(x, 1).is_integer()"
   ]
  },
  {
   "cell_type": "code",
   "execution_count": 27,
   "id": "fe346d7a-19dc-4731-9118-93302d528105",
   "metadata": {},
   "outputs": [
    {
     "data": {
      "text/plain": [
       "10"
      ]
     },
     "execution_count": 27,
     "metadata": {},
     "output_type": "execute_result"
    }
   ],
   "source": [
    "int(10.0)"
   ]
  },
  {
   "cell_type": "code",
   "execution_count": 56,
   "id": "86164824-bc81-4471-88ff-94c25be23d3a",
   "metadata": {},
   "outputs": [
    {
     "data": {
      "text/plain": [
       "'9.5T'"
      ]
     },
     "execution_count": 56,
     "metadata": {},
     "output_type": "execute_result"
    }
   ],
   "source": [
    "pretty(9487634567534)"
   ]
  },
  {
   "cell_type": "code",
   "execution_count": 46,
   "id": "1e074c5f-5e3d-4df7-83e3-7cbd13e197f1",
   "metadata": {},
   "outputs": [
    {
     "name": "stdout",
     "output_type": "stream",
     "text": [
      "9.050556373008149\n"
     ]
    },
    {
     "data": {
      "text/plain": [
       "'1.1B'"
      ]
     },
     "execution_count": 46,
     "metadata": {},
     "output_type": "execute_result"
    }
   ],
   "source": [
    "pretty(1123456789)"
   ]
  },
  {
   "cell_type": "code",
   "execution_count": 54,
   "id": "0f877d5e-b768-43f2-bea8-a5c5e144c532",
   "metadata": {},
   "outputs": [
    {
     "data": {
      "text/plain": [
       "'1M'"
      ]
     },
     "execution_count": 54,
     "metadata": {},
     "output_type": "execute_result"
    }
   ],
   "source": [
    "pretty(pow(10,6))"
   ]
  },
  {
   "cell_type": "code",
   "execution_count": 55,
   "id": "fb516446-3c9a-4955-a64e-64361003752c",
   "metadata": {},
   "outputs": [
    {
     "data": {
      "text/plain": [
       "'2.5M'"
      ]
     },
     "execution_count": 55,
     "metadata": {},
     "output_type": "execute_result"
    }
   ],
   "source": [
    "pretty(2500000.34)"
   ]
  },
  {
   "cell_type": "code",
   "execution_count": 57,
   "id": "7a5da07a-ae50-472e-97a0-80b19805a595",
   "metadata": {},
   "outputs": [
    {
     "data": {
      "text/plain": [
       "'532'"
      ]
     },
     "execution_count": 57,
     "metadata": {},
     "output_type": "execute_result"
    }
   ],
   "source": [
    "pretty(532)"
   ]
  },
  {
   "cell_type": "code",
   "execution_count": null,
   "id": "1d0a6d96-5d9c-440e-9a4a-1532cf693e03",
   "metadata": {},
   "outputs": [],
   "source": []
  }
 ],
 "metadata": {
  "kernelspec": {
   "display_name": "Python 3",
   "language": "python",
   "name": "python3"
  },
  "language_info": {
   "codemirror_mode": {
    "name": "ipython",
    "version": 3
   },
   "file_extension": ".py",
   "mimetype": "text/x-python",
   "name": "python",
   "nbconvert_exporter": "python",
   "pygments_lexer": "ipython3",
   "version": "3.9.1"
  }
 },
 "nbformat": 4,
 "nbformat_minor": 5
}
